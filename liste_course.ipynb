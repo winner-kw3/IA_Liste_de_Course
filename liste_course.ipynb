{
 "cells": [
  {
   "cell_type": "code",
   "execution_count": null,
   "id": "9fa6b2e4",
   "metadata": {},
   "outputs": [
    {
     "name": "stdout",
     "output_type": "stream",
     "text": [
      "   Produit  Stock  Prix unitaire\n",
      "0    Pomme     50            0.8\n",
      "1   Fraise     87            3.5\n",
      "2   Laitue    123            1.4\n",
      "3  Carotte     90            1.0\n",
      "0      Pomme\n",
      "1     Fraise\n",
      "2     Laitue\n",
      "3    Carotte\n",
      "Name: Produit, dtype: object\n",
      "Produit          Pomme\n",
      "Stock               50\n",
      "Prix unitaire      0.8\n",
      "Name: 0, dtype: object\n"
     ]
    }
   ],
   "source": [
    "import pandas\n",
    "\n",
    "data = {\n",
    "    \"Produit\": ['Pomme', 'Fraise', 'Laitue', 'Carotte'],\n",
    "    \"Stock\": [50, 87, 123, 90,],\n",
    "    \"Prix unitaire\": [0.8, 3.5, 1.4, 1,]\n",
    "}\n",
    "\n",
    "mon_df = pandas.DataFrame(data)\n",
    "\n",
    "print(mon_df)\n",
    "\n"
   ]
  },
  {
   "cell_type": "code",
   "execution_count": null,
   "id": "3d3c46e1",
   "metadata": {},
   "outputs": [],
   "source": []
  }
 ],
 "metadata": {
  "kernelspec": {
   "display_name": "Python 3",
   "language": "python",
   "name": "python3"
  },
  "language_info": {
   "codemirror_mode": {
    "name": "ipython",
    "version": 3
   },
   "file_extension": ".py",
   "mimetype": "text/x-python",
   "name": "python",
   "nbconvert_exporter": "python",
   "pygments_lexer": "ipython3",
   "version": "3.13.7"
  }
 },
 "nbformat": 4,
 "nbformat_minor": 5
}
